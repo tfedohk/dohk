{
 "cells": [
  {
   "cell_type": "markdown",
   "metadata": {},
   "source": [
    "# NGS 관련 소프트웨어 설치\n",
    "\n",
    "- author: \"Kwon DoHyung\"\n",
    "- toc: true \n",
    "- comments: true\n",
    "- categories: [NGS, bioinformatics]\n",
    "- image: images/2020-09-22-ngs-sw-installation/NGS_SW_installation_7.png\n",
    "- permalink: /ngs-sw-installation/"
   ]
  },
  {
   "cell_type": "markdown",
   "metadata": {},
   "source": [
    "이 노트는 NGS 설치 메뉴얼이다.\n",
    "설치하고자 하는 SW는 다음과 같다. 각 파일을 다운로드 할 수 있는 링크도 함께 달았다.\n",
    "- bwa: [다운로드][bwa] 또는 [latest version][bwa-web]\n",
    "- samtools: [다운로드][samtools] 또는 [latest version][samtools-web]\n",
    "- picard: [다운로드][picard] 또는 [latest version][picard-web]\n",
    "- gatk: [다운로드][gatk] 또는 [latest version][gatk-web]\n",
    "- trimmomatic: [다운로드][trimmomatic] 또는 [latest version][trimmomatic-web]\n",
    "[bwa]: https://drive.google.com/file/d/1OK1IiVdwwoZVMIvJU0YaUHitqVoA5h45/view?usp=sharing\n",
    "[samtools]: https://drive.google.com/file/d/1GG3vzXfZeTnOKvPtRNPKlyLIYrh3jtQL/view?usp=sharing\n",
    "[picard]: https://drive.google.com/file/d/1wcHXELugLpTp-Ueq0z90kz0bouWZGerS/view?usp=sharing\n",
    "[gatk]: https://drive.google.com/file/d/1I7i3-U1rou-FJQIwNRkQRM_lip_XCj26/view?usp=sharing\n",
    "[trimmomatic]: https://drive.google.com/file/d/1Ty3zSqlfWEU7uBnb2egsO0kJWGZgI33b/view?usp=sharing\n",
    "[bwa-web]: http://sourceforge.net/projects/bio-bwa/files/\n",
    "[samtools-web]: http://sourceforge.net/projects/samtools/files/\n",
    "[picard-web]: https://github.com/broadinstitute/picard/releases/\n",
    "[gatk-web]: https://github.com/broadinstitute/gatk/releases\n",
    "[trimmomatic-web]: http://www.usadellab.org/cms/?page=trimmomatic\n",
    "\n",
    "\n",
    "# 설치에 앞서\n",
    "모든 과정은 터미널에서 이루어진다.\n",
    "모든 설치 파일은 /home/user 폴더에 있다고 가정한다.\n",
    "\n",
    "# BWA\n",
    "## 설치 명령어\n",
    "```shell\n",
    "sudo tar -xvf bwa-0.7.17.tar.bz2\n",
    "cd bwa-0.7.17\n",
    "sudo make\n",
    "/.bwa # 결과 확인\n",
    "pwd #path 복사\n",
    "sudo vi ~/.bashrc\n",
    "# 맨 아래로 이동 후, i를 눌러 insert 모드로 변경 한 다음, 아래의 내용 추가\n",
    "export PATH=(달러표시)PATH:[복사한 path 붙여넣기. 괄호는 제거]:(달러표시)PATH\n",
    "# esc->:wq->엔터\n",
    "source ~/.bashrc\n",
    "bwa # 결과 확인\n",
    "cd ..\n",
    "rm bwa-0.7.17.tar.bz2\n",
    "```\n",
    "## 결과 화면\n",
    "![](../images/2020-09-22-ngs-sw-installation/NGS_SW_installation_1.png)"
   ]
  },
  {
   "cell_type": "code",
   "execution_count": null,
   "metadata": {},
   "outputs": [],
   "source": []
  }
 ],
 "metadata": {
  "kernelspec": {
   "display_name": "Python 3",
   "language": "python",
   "name": "python3"
  },
  "language_info": {
   "codemirror_mode": {
    "name": "ipython",
    "version": 3
   },
   "file_extension": ".py",
   "mimetype": "text/x-python",
   "name": "python",
   "nbconvert_exporter": "python",
   "pygments_lexer": "ipython3",
   "version": "3.7.6"
  }
 },
 "nbformat": 4,
 "nbformat_minor": 4
}
