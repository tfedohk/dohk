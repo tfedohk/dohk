{
 "cells": [
  {
   "cell_type": "markdown",
   "metadata": {},
   "source": [
    "# NGS 관련 소프트웨어 설치\n",
    "\n",
    "- author: \"Kwon DoHyung\"\n",
    "- toc: true \n",
    "- comments: true\n",
    "- categories: [NGS, bioinformatics]\n",
    "- image: images/2020-09-22-ngs-sw-installation/NGS_SW_installation_7.png\n",
    "- permalink: /ngs-sw-installation/"
   ]
  },
  {
   "cell_type": "markdown",
   "metadata": {},
   "source": [
    "이 노트는 NGS 설치 메뉴얼이다.\n",
    "설치하고자 하는 SW는 다음과 같다. 각 파일을 다운로드 할 수 있는 링크도 함께 달았다.\n",
    "- bwa: [다운로드][bwa] 또는 [latest version][bwa-web]\n",
    "- samtools: [다운로드][samtools] 또는 [latest version][samtools-web]\n",
    "- picard: [다운로드][picard] 또는 [latest version][picard-web]\n",
    "- gatk: [다운로드][gatk] 또는 [latest version][gatk-web]\n",
    "- trimmomatic: [다운로드][trimmomatic] 또는 [latest version][trimmomatic-web]\n",
    "[bwa]: https://drive.google.com/file/d/1OK1IiVdwwoZVMIvJU0YaUHitqVoA5h45/view?usp=sharing\n",
    "[samtools]: https://drive.google.com/file/d/1GG3vzXfZeTnOKvPtRNPKlyLIYrh3jtQL/view?usp=sharing\n",
    "[picard]: https://drive.google.com/file/d/1wcHXELugLpTp-Ueq0z90kz0bouWZGerS/view?usp=sharing\n",
    "[gatk]: https://drive.google.com/file/d/1I7i3-U1rou-FJQIwNRkQRM_lip_XCj26/view?usp=sharing\n",
    "[trimmomatic]: https://drive.google.com/file/d/1Ty3zSqlfWEU7uBnb2egsO0kJWGZgI33b/view?usp=sharing\n",
    "[bwa-web]: http://sourceforge.net/projects/bio-bwa/files/\n",
    "[samtools-web]: http://sourceforge.net/projects/samtools/files/\n",
    "[picard-web]: https://github.com/broadinstitute/picard/releases/\n",
    "[gatk-web]: https://github.com/broadinstitute/gatk/releases\n",
    "[trimmomatic-web]: http://www.usadellab.org/cms/?page=trimmomatic\n",
    "\n",
    "# 다운로드한 폴더로 이동\n",
    "다운로드 한 폴더가 Downloads라고 가정한다면, `cd Downloads`를 입력하여 이동한다.\n",
    "\n",
    "# BWA\n",
    "![](../images/2020-09-22-ngs-sw-installation/ngs-1.png)\n",
    "![](../images/2020-09-22-ngs-sw-installation/NGS_SW_installation_1.png)\n",
    "\n",
    "# SAMtools\n",
    "![](../images/2020-09-22-ngs-sw-installation/ngs-2.png)\n",
    "그냥 sudo make만 진행했을 때 다음의 오류가 발생한다. 따라서 option으로 주석을 단 부분들을 먼저 설치하고 진행하는 것을 추천한다.\n",
    "![](../images/2020-09-22-ngs-sw-installation/NGS_SW_installation_2.png)\n",
    "![](../images/2020-09-22-ngs-sw-installation/NGS_SW_installation_3.png)\n",
    "![](../images/2020-09-22-ngs-sw-installation/NGS_SW_installation_4.png)\n",
    "![](../images/2020-09-22-ngs-sw-installation/NGS_SW_installation_5.png)\n",
    "![](../images/2020-09-22-ngs-sw-installation/NGS_SW_installation_6.png)\n",
    "\n",
    "# Picard\n",
    "![](../images/2020-09-22-ngs-sw-installation/ngs-3.png)\n",
    "picard는 리눅스 시스템이 java가 깔려 있어야 한다. 따라서 java 설치를 먼저 진행해준다.\n",
    "![](../images/2020-09-22-ngs-sw-installation/NGS_SW_installation_7.png)\n",
    "\n",
    "# GATK\n",
    "![](../images/2020-09-22-ngs-sw-installation/ngs-4.png)\n",
    "![](../images/2020-09-22-ngs-sw-installation/NGS_SW_installation_8.png)\n",
    "![](../images/2020-09-22-ngs-sw-installation/NGS_SW_installation_9.png)\n",
    "GATK를 실행하는 방법은 두 가지다. 하나는 gatk를 그냥 치면 sh 스크립트가 실행되어 프로그램이 실행되고, 다른 하나는 jar를 이용해 자바 프로그램으로 실행하는 것이다. 두 가지 결과가 모두 위에 나와있다.\n",
    "\n",
    "# Trimmomatic\n",
    "![](../images/2020-09-22-ngs-sw-installation/ngs-5.png)\n",
    "![](../images/2020-09-22-ngs-sw-installation/NGS_SW_installation_09.png)\n",
    "\n",
    "# fastQC\n",
    "- sudo apt update\n",
    "- sudo apt install fastqc\n",
    "\n",
    "# Reference\n",
    "- [https://gatk.broadinstitute.org/hc/en-us/articles/360041320571--How-to-Install-all-software-packages-required-to-follow-the-GATK-Best-Practices](https://gatk.broadinstitute.org/hc/en-us/articles/360041320571--How-to-Install-all-software-packages-required-to-follow-the-GATK-Best-Practices)\n",
    "- [https://oooooohi.tistory.com/entry/Linux-not-in-gzip-format-%EC%97%90%EB%9F%AC-tar](https://oooooohi.tistory.com/entry/Linux-not-in-gzip-format-%EC%97%90%EB%9F%AC-tar)\n",
    "- [https://anow.tistory.com/110](https://anow.tistory.com/110)\n",
    "- [https://ubuntuforums.org/showthread.php?t=1921721](https://ubuntuforums.org/showthread.php?t=1921721)\n",
    "- [https://stackoverflow.com/questions/11471690/curl-h-no-such-file-or-directory/11471743](https://stackoverflow.com/questions/11471690/curl-h-no-such-file-or-directory/11471743)\n",
    "- [https://stackoverflow.com/questions/22738077/backports-lzma-lzmamodule-c11518-fatal-error-lzma-h-no-such-file-or-direct](https://stackoverflow.com/questions/22738077/backports-lzma-lzmamodule-c11518-fatal-error-lzma-h-no-such-file-or-direct)\n",
    "- [http://www.usadellab.org/cms/?page=trimmomatic](http://www.usadellab.org/cms/?page=trimmomatic)\n",
    "- https://www.howtoinstall.me/ubuntu/18-04/fastqc/"
   ]
  },
  {
   "cell_type": "code",
   "execution_count": null,
   "metadata": {},
   "outputs": [],
   "source": []
  }
 ],
 "metadata": {
  "kernelspec": {
   "display_name": "Python 3",
   "language": "python",
   "name": "python3"
  },
  "language_info": {
   "codemirror_mode": {
    "name": "ipython",
    "version": 3
   },
   "file_extension": ".py",
   "mimetype": "text/x-python",
   "name": "python",
   "nbconvert_exporter": "python",
   "pygments_lexer": "ipython3",
   "version": "3.7.6"
  }
 },
 "nbformat": 4,
 "nbformat_minor": 4
}
