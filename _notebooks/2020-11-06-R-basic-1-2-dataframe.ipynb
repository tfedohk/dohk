{
 "cells": [
  {
   "cell_type": "markdown",
   "metadata": {},
   "source": [
    "# R basic 2-데이터프레임(DataFrame)\n",
    "\n",
    "- author: \"Kwon DoHyung\"\n",
    "- toc: true \n",
    "- comments: true\n",
    "- categories: [CSE, R]\n",
    "- image: images/2020-11-06-r-1/Untitled60.png\n",
    "- permalink: /r-basic-1-2-dataframe/"
   ]
  },
  {
   "cell_type": "markdown",
   "metadata": {},
   "source": [
    "# 자료형: 데이터프레임(DataFrame)\n",
    "\n",
    "외관상으로는 행렬과 유사하다. 다만, 서로 다른 자료형 벡터로 구성할 수 있다는 점이 차이점이다.\n",
    "\n",
    "## 데이터프레임의 생성\n",
    "\n",
    "### data.frame() 함수 이용\n",
    "\n",
    "먼저, 서로 다른 자료형의 벡터들을 만든다. \n",
    "\n",
    "```r\n",
    "vec1 <- c(1,4,7)\n",
    "vec2 <- c(\"one\",\"four\",\"seven\")\n",
    "vec3 <- c(TRUE,TRUE,FALSE)\n",
    "```\n",
    "\n",
    "이 벡터들을 `data.frame()` 함수를 이용하여 데이터프레임 자료형으로 만들 수 있다.\n",
    "\n",
    "```r\n",
    "df <- data.frame(vec1, vec2, vec3) # 벡터들을 파라미터로 넘기면 끝이다.\n",
    "```\n",
    "\n",
    "결과물을 보면, 마치 `cbind()` 한 것과 같이 나온다.\n",
    "\n",
    "```r\n",
    "df\n",
    "```\n",
    "\n",
    "![](../images/2020-11-06-r-1/Untitled52.png)"
   ]
  },
  {
   "cell_type": "code",
   "execution_count": null,
   "metadata": {},
   "outputs": [],
   "source": []
  }
 ],
 "metadata": {
  "kernelspec": {
   "display_name": "Python 3",
   "language": "python",
   "name": "python3"
  },
  "language_info": {
   "codemirror_mode": {
    "name": "ipython",
    "version": 3
   },
   "file_extension": ".py",
   "mimetype": "text/x-python",
   "name": "python",
   "nbconvert_exporter": "python",
   "pygments_lexer": "ipython3",
   "version": "3.8.3"
  }
 },
 "nbformat": 4,
 "nbformat_minor": 4
}
