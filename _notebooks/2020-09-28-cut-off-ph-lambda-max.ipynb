{
 "cells": [
  {
   "cell_type": "markdown",
   "metadata": {},
   "source": [
    "# 용매의 cut off, pH에 따른 최대흡광파장 알아보기\n",
    "\n",
    "- author: \"Kwon DoHyung\"\n",
    "- toc: true \n",
    "- comments: true\n",
    "- categories: [chemistry, experiment note]\n",
    "- image: images/2020-09-28-cut-off-ph-lambda-max/cuf_off.png\n",
    "- permalink: /2020-09-28-cut-off-ph-lambda-max/"
   ]
  },
  {
   "cell_type": "markdown",
   "metadata": {},
   "source": [
    "# 실험1: cut off 파장대 측정하기\n",
    "\n",
    "자외선 파장대에 해당하는 190nm~500nm 사이의 파장대에서 용매의 cut off 파장 알아보는 실험이다. 자외선은 사람의 육안에는 보이지 않는 10에서 400nm의 파장 영역을 가진다.\n",
    "\n",
    "용매의 종류는 다음과 같다.\n",
    "\n",
    "- H2O\n",
    "- dimethylsulfoxide(DMSO)\n",
    "- aceton\n",
    "- EtOH\n",
    "- acetonitrile\n",
    "- MeOH\n",
    "- Hexane → 물에 섞이지 않음\n",
    "- CH2Cl2 → 물에 섞이지 않음\n",
    "\n",
    "## 실험 결과\n",
    "\n",
    "### spectrophotometer 흡광도 측정 결과\n",
    "\n",
    "![](..images/2020-09-28-cut-off-ph-lambda-max/result_1.png)\n",
    "\n",
    "### UV-vis Analysis 그래프\n",
    "\n",
    "![](..images/2020-09-28-cut-off-ph-lambda-max/cuf_off.png)\n",
    "\n",
    "# 실험2: pH 변화에 따른 흡수파장의 변화\n",
    "\n",
    "pH에 따라 흡수가능한 흡광 파장대가 달라지는 것을 알아보는 실험이다. 흡광도를 측정한 후 UV-vis로 최대 흡수파장인 λmax를 알아낸다.\n",
    "\n",
    "사용한 용매의 종류는 두 가지로 다음과 같다.\n",
    "\n",
    "- methyl orange\n",
    "- BPB(Bromo Phenol Blue)\n",
    "\n",
    "산도 조절을 위해 사용한 용액은 다음과 같다.\n",
    "\n",
    "- 0.1N HCl\n",
    "- 0.1N NaOH\n",
    "- D.W.\n",
    "\n",
    "## 실험 결과\n",
    "\n",
    "### spectrophotometer 흡광도 측정 결과\n",
    "\n",
    "![](..images/2020-09-28-cut-off-ph-lambda-max/result_2.png)\n",
    "\n",
    "### UV-vis Analysis 그래프\n",
    "\n",
    "![](..images/2020-09-28-cut-off-ph-lambda-max/Methyl_orange_λmax.png)\n",
    "methyl orange의 pH에 따른 흡광파장대의 변화를 나타낸다.\n",
    "\n",
    "![](..images/2020-09-28-cut-off-ph-lambda-max/BromoPhenolBlue__λmax.png)\n",
    "BPB의 pH에 따른 흡광파장대의 변화를 나타낸다.\n",
    "\n",
    "# Reference\n",
    "\n",
    "- [https://ko.wikipedia.org/wiki/자외선](https://ko.wikipedia.org/wiki/%EC%9E%90%EC%99%B8%EC%84%A0)"
   ]
  },
  {
   "cell_type": "code",
   "execution_count": null,
   "metadata": {},
   "outputs": [],
   "source": []
  }
 ],
 "metadata": {
  "kernelspec": {
   "display_name": "Python 3",
   "language": "python",
   "name": "python3"
  },
  "language_info": {
   "codemirror_mode": {
    "name": "ipython",
    "version": 3
   },
   "file_extension": ".py",
   "mimetype": "text/x-python",
   "name": "python",
   "nbconvert_exporter": "python",
   "pygments_lexer": "ipython3",
   "version": "3.7.6"
  }
 },
 "nbformat": 4,
 "nbformat_minor": 4
}
